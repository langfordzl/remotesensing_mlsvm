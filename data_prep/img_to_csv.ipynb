{
 "cells": [
  {
   "cell_type": "markdown",
   "metadata": {},
   "source": [
    "# Open image and covert to dataframe"
   ]
  },
  {
   "cell_type": "code",
   "execution_count": 1,
   "metadata": {},
   "outputs": [],
   "source": [
    "import spectral.io.envi as envi\n",
    "\n",
    "# location for image \n",
    "loc = '/home/lql/Desktop/rs_mlsvm/data/' \n",
    "\n",
    "img = envi.open(loc + '2003_mod09.hdr', loc + '2003_mod09.img')\n",
    "img = img[:,:,:]"
   ]
  },
  {
   "cell_type": "code",
   "execution_count": 2,
   "metadata": {},
   "outputs": [],
   "source": [
    "mask = envi.open(loc + 'ak03_mask.hdr', loc + 'ak03_mask.img')\n",
    "mask = mask[:,:,:]"
   ]
  },
  {
   "cell_type": "code",
   "execution_count": 3,
   "metadata": {},
   "outputs": [
    {
     "name": "stdout",
     "output_type": "stream",
     "text": [
      "(1871, 1921, 1)\n",
      "(1871, 1921, 260)\n"
     ]
    }
   ],
   "source": [
    "print (mask.shape)\n",
    "print (img.shape)"
   ]
  },
  {
   "cell_type": "code",
   "execution_count": 4,
   "metadata": {},
   "outputs": [
    {
     "data": {
      "text/plain": [
       "array([[      0, 1846606],\n",
       "       [      1,    8511],\n",
       "       [      2, 1739074]])"
      ]
     },
     "execution_count": 4,
     "metadata": {},
     "output_type": "execute_result"
    }
   ],
   "source": [
    "import numpy as np\n",
    "\n",
    "# number of pixels per category (0 = no fire, 1 = fire, 2 = background)\n",
    "(unique, counts) = np.unique(mask, return_counts=True)\n",
    "np.asarray((unique, counts)).T"
   ]
  },
  {
   "cell_type": "code",
   "execution_count": 5,
   "metadata": {},
   "outputs": [],
   "source": [
    "import pandas as pd\n",
    "l = mask.flatten()\n",
    "df = pd.DataFrame(data=l, columns=['label'])"
   ]
  },
  {
   "cell_type": "code",
   "execution_count": 6,
   "metadata": {},
   "outputs": [],
   "source": [
    "# loop through bands and add to df\n",
    "for i in range(0, img.shape[2]):\n",
    "    #print (i)\n",
    "    b = img[:,:,i].flatten()\n",
    "    df['b'+str(i)] = b"
   ]
  },
  {
   "cell_type": "code",
   "execution_count": 7,
   "metadata": {},
   "outputs": [],
   "source": [
    "# remove NaN (label = 2)\n",
    "df = df[df.label != 2]"
   ]
  },
  {
   "cell_type": "code",
   "execution_count": 8,
   "metadata": {},
   "outputs": [],
   "source": [
    "df = df.dropna()"
   ]
  },
  {
   "cell_type": "code",
   "execution_count": 9,
   "metadata": {},
   "outputs": [
    {
     "data": {
      "text/html": [
       "<div>\n",
       "<style scoped>\n",
       "    .dataframe tbody tr th:only-of-type {\n",
       "        vertical-align: middle;\n",
       "    }\n",
       "\n",
       "    .dataframe tbody tr th {\n",
       "        vertical-align: top;\n",
       "    }\n",
       "\n",
       "    .dataframe thead th {\n",
       "        text-align: right;\n",
       "    }\n",
       "</style>\n",
       "<table border=\"1\" class=\"dataframe\">\n",
       "  <thead>\n",
       "    <tr style=\"text-align: right;\">\n",
       "      <th></th>\n",
       "      <th>label</th>\n",
       "      <th>b0</th>\n",
       "      <th>b1</th>\n",
       "      <th>b2</th>\n",
       "      <th>b3</th>\n",
       "      <th>b4</th>\n",
       "      <th>b5</th>\n",
       "      <th>b6</th>\n",
       "      <th>b7</th>\n",
       "      <th>b8</th>\n",
       "      <th>...</th>\n",
       "      <th>b250</th>\n",
       "      <th>b251</th>\n",
       "      <th>b252</th>\n",
       "      <th>b253</th>\n",
       "      <th>b254</th>\n",
       "      <th>b255</th>\n",
       "      <th>b256</th>\n",
       "      <th>b257</th>\n",
       "      <th>b258</th>\n",
       "      <th>b259</th>\n",
       "    </tr>\n",
       "  </thead>\n",
       "  <tbody>\n",
       "    <tr>\n",
       "      <th>1637</th>\n",
       "      <td>0</td>\n",
       "      <td>0.8273</td>\n",
       "      <td>0.7732</td>\n",
       "      <td>0.8644</td>\n",
       "      <td>0.8477</td>\n",
       "      <td>0.3963</td>\n",
       "      <td>0.1205</td>\n",
       "      <td>0.0658</td>\n",
       "      <td>-0.033802</td>\n",
       "      <td>-0.532481</td>\n",
       "      <td>...</td>\n",
       "      <td>0.5754</td>\n",
       "      <td>0.5211</td>\n",
       "      <td>0.6708</td>\n",
       "      <td>0.6360</td>\n",
       "      <td>0.3229</td>\n",
       "      <td>0.1206</td>\n",
       "      <td>0.0840</td>\n",
       "      <td>-0.049521</td>\n",
       "      <td>2.360877</td>\n",
       "      <td>-0.051018</td>\n",
       "    </tr>\n",
       "    <tr>\n",
       "      <th>3556</th>\n",
       "      <td>0</td>\n",
       "      <td>0.7689</td>\n",
       "      <td>0.7210</td>\n",
       "      <td>0.8172</td>\n",
       "      <td>0.7926</td>\n",
       "      <td>0.3663</td>\n",
       "      <td>0.0705</td>\n",
       "      <td>0.0284</td>\n",
       "      <td>-0.032150</td>\n",
       "      <td>-0.583009</td>\n",
       "      <td>...</td>\n",
       "      <td>0.3853</td>\n",
       "      <td>0.2658</td>\n",
       "      <td>0.6024</td>\n",
       "      <td>0.5116</td>\n",
       "      <td>0.1873</td>\n",
       "      <td>0.0782</td>\n",
       "      <td>0.0744</td>\n",
       "      <td>-0.183536</td>\n",
       "      <td>0.317684</td>\n",
       "      <td>-0.155721</td>\n",
       "    </tr>\n",
       "    <tr>\n",
       "      <th>3557</th>\n",
       "      <td>0</td>\n",
       "      <td>0.7689</td>\n",
       "      <td>0.7210</td>\n",
       "      <td>0.8172</td>\n",
       "      <td>0.7926</td>\n",
       "      <td>0.3663</td>\n",
       "      <td>0.0705</td>\n",
       "      <td>0.0284</td>\n",
       "      <td>-0.032150</td>\n",
       "      <td>-0.583009</td>\n",
       "      <td>...</td>\n",
       "      <td>0.3853</td>\n",
       "      <td>0.2658</td>\n",
       "      <td>0.6024</td>\n",
       "      <td>0.5116</td>\n",
       "      <td>0.1873</td>\n",
       "      <td>0.0782</td>\n",
       "      <td>0.0744</td>\n",
       "      <td>-0.183536</td>\n",
       "      <td>0.317684</td>\n",
       "      <td>-0.155721</td>\n",
       "    </tr>\n",
       "    <tr>\n",
       "      <th>3558</th>\n",
       "      <td>0</td>\n",
       "      <td>0.9477</td>\n",
       "      <td>0.9068</td>\n",
       "      <td>0.9375</td>\n",
       "      <td>0.9528</td>\n",
       "      <td>0.4468</td>\n",
       "      <td>0.1040</td>\n",
       "      <td>0.0410</td>\n",
       "      <td>-0.022054</td>\n",
       "      <td>-0.182021</td>\n",
       "      <td>...</td>\n",
       "      <td>0.4760</td>\n",
       "      <td>0.3543</td>\n",
       "      <td>0.6525</td>\n",
       "      <td>0.6042</td>\n",
       "      <td>0.2317</td>\n",
       "      <td>0.1021</td>\n",
       "      <td>0.0611</td>\n",
       "      <td>-0.146574</td>\n",
       "      <td>0.445168</td>\n",
       "      <td>-0.137225</td>\n",
       "    </tr>\n",
       "    <tr>\n",
       "      <th>5475</th>\n",
       "      <td>0</td>\n",
       "      <td>0.7740</td>\n",
       "      <td>0.7204</td>\n",
       "      <td>0.8356</td>\n",
       "      <td>0.8101</td>\n",
       "      <td>0.3733</td>\n",
       "      <td>0.0834</td>\n",
       "      <td>0.0357</td>\n",
       "      <td>-0.035867</td>\n",
       "      <td>-1.375774</td>\n",
       "      <td>...</td>\n",
       "      <td>0.3461</td>\n",
       "      <td>0.2486</td>\n",
       "      <td>0.5577</td>\n",
       "      <td>0.4455</td>\n",
       "      <td>0.1470</td>\n",
       "      <td>0.0886</td>\n",
       "      <td>0.0679</td>\n",
       "      <td>-0.163948</td>\n",
       "      <td>0.284240</td>\n",
       "      <td>-0.133598</td>\n",
       "    </tr>\n",
       "  </tbody>\n",
       "</table>\n",
       "<p>5 rows × 261 columns</p>\n",
       "</div>"
      ],
      "text/plain": [
       "      label      b0      b1      b2      b3      b4      b5      b6        b7  \\\n",
       "1637      0  0.8273  0.7732  0.8644  0.8477  0.3963  0.1205  0.0658 -0.033802   \n",
       "3556      0  0.7689  0.7210  0.8172  0.7926  0.3663  0.0705  0.0284 -0.032150   \n",
       "3557      0  0.7689  0.7210  0.8172  0.7926  0.3663  0.0705  0.0284 -0.032150   \n",
       "3558      0  0.9477  0.9068  0.9375  0.9528  0.4468  0.1040  0.0410 -0.022054   \n",
       "5475      0  0.7740  0.7204  0.8356  0.8101  0.3733  0.0834  0.0357 -0.035867   \n",
       "\n",
       "            b8  ...    b250    b251    b252    b253    b254    b255    b256  \\\n",
       "1637 -0.532481  ...  0.5754  0.5211  0.6708  0.6360  0.3229  0.1206  0.0840   \n",
       "3556 -0.583009  ...  0.3853  0.2658  0.6024  0.5116  0.1873  0.0782  0.0744   \n",
       "3557 -0.583009  ...  0.3853  0.2658  0.6024  0.5116  0.1873  0.0782  0.0744   \n",
       "3558 -0.182021  ...  0.4760  0.3543  0.6525  0.6042  0.2317  0.1021  0.0611   \n",
       "5475 -1.375774  ...  0.3461  0.2486  0.5577  0.4455  0.1470  0.0886  0.0679   \n",
       "\n",
       "          b257      b258      b259  \n",
       "1637 -0.049521  2.360877 -0.051018  \n",
       "3556 -0.183536  0.317684 -0.155721  \n",
       "3557 -0.183536  0.317684 -0.155721  \n",
       "3558 -0.146574  0.445168 -0.137225  \n",
       "5475 -0.163948  0.284240 -0.133598  \n",
       "\n",
       "[5 rows x 261 columns]"
      ]
     },
     "execution_count": 9,
     "metadata": {},
     "output_type": "execute_result"
    }
   ],
   "source": [
    "df.head(5)"
   ]
  },
  {
   "cell_type": "markdown",
   "metadata": {},
   "source": [
    "# Need to change labels for MLSVM (-1,1)\n",
    "### Make sure the number of minority class (lbl==1) is smaller than number of majority class (lbl==-1)"
   ]
  },
  {
   "cell_type": "code",
   "execution_count": 10,
   "metadata": {},
   "outputs": [
    {
     "data": {
      "text/plain": [
       "0    1801226\n",
       "1       8287\n",
       "Name: label, dtype: int64"
      ]
     },
     "execution_count": 10,
     "metadata": {},
     "output_type": "execute_result"
    }
   ],
   "source": [
    "# no wildfire vs wildfire\n",
    "df.label.value_counts()"
   ]
  },
  {
   "cell_type": "code",
   "execution_count": 11,
   "metadata": {},
   "outputs": [],
   "source": [
    "df2 = df.copy()\n",
    "df2 = df2.astype({'label': 'int16'})"
   ]
  },
  {
   "cell_type": "code",
   "execution_count": 12,
   "metadata": {},
   "outputs": [],
   "source": [
    "df2['label'] = df2['label'].replace(0,-1)"
   ]
  },
  {
   "cell_type": "code",
   "execution_count": 13,
   "metadata": {},
   "outputs": [
    {
     "data": {
      "text/plain": [
       "-1    1801226\n",
       " 1       8287\n",
       "Name: label, dtype: int64"
      ]
     },
     "execution_count": 13,
     "metadata": {},
     "output_type": "execute_result"
    }
   ],
   "source": [
    "df2.label.value_counts()"
   ]
  },
  {
   "cell_type": "code",
   "execution_count": 16,
   "metadata": {},
   "outputs": [
    {
     "data": {
      "text/html": [
       "<div>\n",
       "<style scoped>\n",
       "    .dataframe tbody tr th:only-of-type {\n",
       "        vertical-align: middle;\n",
       "    }\n",
       "\n",
       "    .dataframe tbody tr th {\n",
       "        vertical-align: top;\n",
       "    }\n",
       "\n",
       "    .dataframe thead th {\n",
       "        text-align: right;\n",
       "    }\n",
       "</style>\n",
       "<table border=\"1\" class=\"dataframe\">\n",
       "  <thead>\n",
       "    <tr style=\"text-align: right;\">\n",
       "      <th></th>\n",
       "      <th>label</th>\n",
       "      <th>b0</th>\n",
       "      <th>b1</th>\n",
       "      <th>b2</th>\n",
       "      <th>b3</th>\n",
       "      <th>b4</th>\n",
       "      <th>b5</th>\n",
       "      <th>b6</th>\n",
       "      <th>b7</th>\n",
       "      <th>b8</th>\n",
       "      <th>...</th>\n",
       "      <th>b250</th>\n",
       "      <th>b251</th>\n",
       "      <th>b252</th>\n",
       "      <th>b253</th>\n",
       "      <th>b254</th>\n",
       "      <th>b255</th>\n",
       "      <th>b256</th>\n",
       "      <th>b257</th>\n",
       "      <th>b258</th>\n",
       "      <th>b259</th>\n",
       "    </tr>\n",
       "  </thead>\n",
       "  <tbody>\n",
       "    <tr>\n",
       "      <th>1637</th>\n",
       "      <td>-1</td>\n",
       "      <td>0.8273</td>\n",
       "      <td>0.7732</td>\n",
       "      <td>0.8644</td>\n",
       "      <td>0.8477</td>\n",
       "      <td>0.3963</td>\n",
       "      <td>0.1205</td>\n",
       "      <td>0.0658</td>\n",
       "      <td>-0.033802</td>\n",
       "      <td>-0.532481</td>\n",
       "      <td>...</td>\n",
       "      <td>0.5754</td>\n",
       "      <td>0.5211</td>\n",
       "      <td>0.6708</td>\n",
       "      <td>0.6360</td>\n",
       "      <td>0.3229</td>\n",
       "      <td>0.1206</td>\n",
       "      <td>0.0840</td>\n",
       "      <td>-0.049521</td>\n",
       "      <td>2.360877</td>\n",
       "      <td>-0.051018</td>\n",
       "    </tr>\n",
       "    <tr>\n",
       "      <th>3556</th>\n",
       "      <td>-1</td>\n",
       "      <td>0.7689</td>\n",
       "      <td>0.7210</td>\n",
       "      <td>0.8172</td>\n",
       "      <td>0.7926</td>\n",
       "      <td>0.3663</td>\n",
       "      <td>0.0705</td>\n",
       "      <td>0.0284</td>\n",
       "      <td>-0.032150</td>\n",
       "      <td>-0.583009</td>\n",
       "      <td>...</td>\n",
       "      <td>0.3853</td>\n",
       "      <td>0.2658</td>\n",
       "      <td>0.6024</td>\n",
       "      <td>0.5116</td>\n",
       "      <td>0.1873</td>\n",
       "      <td>0.0782</td>\n",
       "      <td>0.0744</td>\n",
       "      <td>-0.183536</td>\n",
       "      <td>0.317684</td>\n",
       "      <td>-0.155721</td>\n",
       "    </tr>\n",
       "    <tr>\n",
       "      <th>3557</th>\n",
       "      <td>-1</td>\n",
       "      <td>0.7689</td>\n",
       "      <td>0.7210</td>\n",
       "      <td>0.8172</td>\n",
       "      <td>0.7926</td>\n",
       "      <td>0.3663</td>\n",
       "      <td>0.0705</td>\n",
       "      <td>0.0284</td>\n",
       "      <td>-0.032150</td>\n",
       "      <td>-0.583009</td>\n",
       "      <td>...</td>\n",
       "      <td>0.3853</td>\n",
       "      <td>0.2658</td>\n",
       "      <td>0.6024</td>\n",
       "      <td>0.5116</td>\n",
       "      <td>0.1873</td>\n",
       "      <td>0.0782</td>\n",
       "      <td>0.0744</td>\n",
       "      <td>-0.183536</td>\n",
       "      <td>0.317684</td>\n",
       "      <td>-0.155721</td>\n",
       "    </tr>\n",
       "    <tr>\n",
       "      <th>3558</th>\n",
       "      <td>-1</td>\n",
       "      <td>0.9477</td>\n",
       "      <td>0.9068</td>\n",
       "      <td>0.9375</td>\n",
       "      <td>0.9528</td>\n",
       "      <td>0.4468</td>\n",
       "      <td>0.1040</td>\n",
       "      <td>0.0410</td>\n",
       "      <td>-0.022054</td>\n",
       "      <td>-0.182021</td>\n",
       "      <td>...</td>\n",
       "      <td>0.4760</td>\n",
       "      <td>0.3543</td>\n",
       "      <td>0.6525</td>\n",
       "      <td>0.6042</td>\n",
       "      <td>0.2317</td>\n",
       "      <td>0.1021</td>\n",
       "      <td>0.0611</td>\n",
       "      <td>-0.146574</td>\n",
       "      <td>0.445168</td>\n",
       "      <td>-0.137225</td>\n",
       "    </tr>\n",
       "    <tr>\n",
       "      <th>5475</th>\n",
       "      <td>-1</td>\n",
       "      <td>0.7740</td>\n",
       "      <td>0.7204</td>\n",
       "      <td>0.8356</td>\n",
       "      <td>0.8101</td>\n",
       "      <td>0.3733</td>\n",
       "      <td>0.0834</td>\n",
       "      <td>0.0357</td>\n",
       "      <td>-0.035867</td>\n",
       "      <td>-1.375774</td>\n",
       "      <td>...</td>\n",
       "      <td>0.3461</td>\n",
       "      <td>0.2486</td>\n",
       "      <td>0.5577</td>\n",
       "      <td>0.4455</td>\n",
       "      <td>0.1470</td>\n",
       "      <td>0.0886</td>\n",
       "      <td>0.0679</td>\n",
       "      <td>-0.163948</td>\n",
       "      <td>0.284240</td>\n",
       "      <td>-0.133598</td>\n",
       "    </tr>\n",
       "  </tbody>\n",
       "</table>\n",
       "<p>5 rows × 261 columns</p>\n",
       "</div>"
      ],
      "text/plain": [
       "      label      b0      b1      b2      b3      b4      b5      b6        b7  \\\n",
       "1637     -1  0.8273  0.7732  0.8644  0.8477  0.3963  0.1205  0.0658 -0.033802   \n",
       "3556     -1  0.7689  0.7210  0.8172  0.7926  0.3663  0.0705  0.0284 -0.032150   \n",
       "3557     -1  0.7689  0.7210  0.8172  0.7926  0.3663  0.0705  0.0284 -0.032150   \n",
       "3558     -1  0.9477  0.9068  0.9375  0.9528  0.4468  0.1040  0.0410 -0.022054   \n",
       "5475     -1  0.7740  0.7204  0.8356  0.8101  0.3733  0.0834  0.0357 -0.035867   \n",
       "\n",
       "            b8  ...    b250    b251    b252    b253    b254    b255    b256  \\\n",
       "1637 -0.532481  ...  0.5754  0.5211  0.6708  0.6360  0.3229  0.1206  0.0840   \n",
       "3556 -0.583009  ...  0.3853  0.2658  0.6024  0.5116  0.1873  0.0782  0.0744   \n",
       "3557 -0.583009  ...  0.3853  0.2658  0.6024  0.5116  0.1873  0.0782  0.0744   \n",
       "3558 -0.182021  ...  0.4760  0.3543  0.6525  0.6042  0.2317  0.1021  0.0611   \n",
       "5475 -1.375774  ...  0.3461  0.2486  0.5577  0.4455  0.1470  0.0886  0.0679   \n",
       "\n",
       "          b257      b258      b259  \n",
       "1637 -0.049521  2.360877 -0.051018  \n",
       "3556 -0.183536  0.317684 -0.155721  \n",
       "3557 -0.183536  0.317684 -0.155721  \n",
       "3558 -0.146574  0.445168 -0.137225  \n",
       "5475 -0.163948  0.284240 -0.133598  \n",
       "\n",
       "[5 rows x 261 columns]"
      ]
     },
     "execution_count": 16,
     "metadata": {},
     "output_type": "execute_result"
    }
   ],
   "source": [
    "df2.head(5)"
   ]
  },
  {
   "cell_type": "code",
   "execution_count": 17,
   "metadata": {},
   "outputs": [
    {
     "data": {
      "text/plain": [
       "(1809513, 261)"
      ]
     },
     "execution_count": 17,
     "metadata": {},
     "output_type": "execute_result"
    }
   ],
   "source": [
    "df2.shape"
   ]
  },
  {
   "cell_type": "markdown",
   "metadata": {},
   "source": [
    "# Create validation set (statstics after running MLSVM)"
   ]
  },
  {
   "cell_type": "code",
   "execution_count": 32,
   "metadata": {},
   "outputs": [
    {
     "name": "stdout",
     "output_type": "stream",
     "text": [
      "0 180951\n"
     ]
    }
   ],
   "source": [
    "# select grid of image\n",
    "# 1809513 pixels \n",
    "\n",
    "val = df2.shape[0] * 0.10\n",
    "\n",
    "start = 0\n",
    "stop = start + round(val)\n",
    "\n",
    "print (start,stop)\n",
    "\n",
    "df_val = df2[start:stop]\n",
    "df_train = df2[stop:len(df2)]"
   ]
  },
  {
   "cell_type": "code",
   "execution_count": 33,
   "metadata": {},
   "outputs": [
    {
     "name": "stdout",
     "output_type": "stream",
     "text": [
      "Validation Counts\n",
      "[[    -1 179639]\n",
      " [     1   1312]]\n",
      "Training Counts\n",
      "[[     -1 1621587]\n",
      " [      1    6975]]\n"
     ]
    }
   ],
   "source": [
    "y = df_val.label.values\n",
    "unique, counts = np.unique(y, return_counts=True)\n",
    "print ('Validation Counts')\n",
    "print (np.asarray((unique, counts)).T)\n",
    "\n",
    "y = df_train.label.values\n",
    "unique, counts = np.unique(y, return_counts=True)\n",
    "print ('Training Counts')\n",
    "print (np.asarray((unique, counts)).T)"
   ]
  },
  {
   "cell_type": "code",
   "execution_count": 35,
   "metadata": {},
   "outputs": [],
   "source": [
    "df_train.to_csv(loc + 'ak03_fire_train.csv',header=None, sep=',', index=None)\n",
    "df_val.to_csv(loc + 'ak03_fire_val.csv',header=None, sep=',', index=None)"
   ]
  },
  {
   "cell_type": "code",
   "execution_count": null,
   "metadata": {},
   "outputs": [],
   "source": []
  }
 ],
 "metadata": {
  "kernelspec": {
   "display_name": "Python 3",
   "language": "python",
   "name": "python3"
  },
  "language_info": {
   "codemirror_mode": {
    "name": "ipython",
    "version": 3
   },
   "file_extension": ".py",
   "mimetype": "text/x-python",
   "name": "python",
   "nbconvert_exporter": "python",
   "pygments_lexer": "ipython3",
   "version": "3.6.9"
  }
 },
 "nbformat": 4,
 "nbformat_minor": 2
}
