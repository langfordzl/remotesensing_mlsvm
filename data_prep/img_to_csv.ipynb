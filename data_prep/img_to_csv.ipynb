{
 "cells": [
  {
   "cell_type": "markdown",
   "metadata": {},
   "source": [
    "# Open image and covert to dataframe"
   ]
  },
  {
   "cell_type": "code",
   "execution_count": 1,
   "metadata": {},
   "outputs": [
    {
     "ename": "ModuleNotFoundError",
     "evalue": "No module named 'spectral'",
     "output_type": "error",
     "traceback": [
      "\u001b[0;31m---------------------------------------------------------------------------\u001b[0m",
      "\u001b[0;31mModuleNotFoundError\u001b[0m                       Traceback (most recent call last)",
      "\u001b[0;32m<ipython-input-1-f9f5d08f47a0>\u001b[0m in \u001b[0;36m<module>\u001b[0;34m\u001b[0m\n\u001b[0;32m----> 1\u001b[0;31m \u001b[0;32mimport\u001b[0m \u001b[0mspectral\u001b[0m\u001b[0;34m.\u001b[0m\u001b[0mio\u001b[0m\u001b[0;34m.\u001b[0m\u001b[0menvi\u001b[0m \u001b[0;32mas\u001b[0m \u001b[0menvi\u001b[0m\u001b[0;34m\u001b[0m\u001b[0;34m\u001b[0m\u001b[0m\n\u001b[0m\u001b[1;32m      2\u001b[0m \u001b[0;34m\u001b[0m\u001b[0m\n\u001b[1;32m      3\u001b[0m \u001b[0;31m# location for image\u001b[0m\u001b[0;34m\u001b[0m\u001b[0;34m\u001b[0m\u001b[0;34m\u001b[0m\u001b[0m\n\u001b[1;32m      4\u001b[0m \u001b[0mloc\u001b[0m \u001b[0;34m=\u001b[0m \u001b[0;34m'/home/lql/Desktop/rs_mlsvm/data/'\u001b[0m\u001b[0;34m\u001b[0m\u001b[0;34m\u001b[0m\u001b[0m\n\u001b[1;32m      5\u001b[0m \u001b[0;34m\u001b[0m\u001b[0m\n",
      "\u001b[0;31mModuleNotFoundError\u001b[0m: No module named 'spectral'"
     ]
    }
   ],
   "source": [
    "import spectral.io.envi as envi\n",
    "\n",
    "# location for image \n",
    "loc = '/home/lql/Desktop/rs_mlsvm/data/' \n",
    "\n",
    "data1 = 'img_val'\n",
    "data2 = 'mask_val'\n",
    "\n",
    "\n",
    "img = envi.open(loc + data1 +'.hdr', loc + data1 + '.img')\n",
    "img = img[:,:,:]\n",
    "mask = envi.open(loc + data2 +'.hdr', loc + data2 + '.img')\n",
    "mask = mask[:,:,:]"
   ]
  },
  {
   "cell_type": "code",
   "execution_count": 122,
   "metadata": {},
   "outputs": [
    {
     "name": "stdout",
     "output_type": "stream",
     "text": [
      "(160, 280, 1)\n",
      "(160, 280, 260)\n"
     ]
    }
   ],
   "source": [
    "print (mask.shape)\n",
    "print (img.shape)"
   ]
  },
  {
   "cell_type": "code",
   "execution_count": 123,
   "metadata": {},
   "outputs": [
    {
     "data": {
      "text/plain": [
       "array([[    0, 42856],\n",
       "       [    1,  1944]])"
      ]
     },
     "execution_count": 123,
     "metadata": {},
     "output_type": "execute_result"
    }
   ],
   "source": [
    "import numpy as np\n",
    "\n",
    "# number of pixels per category (0 = no fire, 1 = fire, 2 = background)\n",
    "(unique, counts) = np.unique(mask, return_counts=True)\n",
    "np.asarray((unique, counts)).T"
   ]
  },
  {
   "cell_type": "code",
   "execution_count": 124,
   "metadata": {},
   "outputs": [],
   "source": [
    "import pandas as pd\n",
    "l = mask.flatten()\n",
    "df = pd.DataFrame(data=l, columns=['label'])"
   ]
  },
  {
   "cell_type": "code",
   "execution_count": 125,
   "metadata": {},
   "outputs": [],
   "source": [
    "# loop through bands and add to df\n",
    "for i in range(0, img.shape[2]):\n",
    "    #print (i)\n",
    "    b = img[:,:,i].flatten()\n",
    "    df['b'+str(i)] = b"
   ]
  },
  {
   "cell_type": "code",
   "execution_count": 8,
   "metadata": {},
   "outputs": [],
   "source": [
    "# remove NaN (label = 2)\n",
    "#df = df[df.label != 2]"
   ]
  },
  {
   "cell_type": "code",
   "execution_count": 126,
   "metadata": {},
   "outputs": [],
   "source": [
    "df = df.dropna()"
   ]
  },
  {
   "cell_type": "code",
   "execution_count": 127,
   "metadata": {},
   "outputs": [
    {
     "data": {
      "text/plain": [
       "0    42045\n",
       "1     1887\n",
       "Name: label, dtype: int64"
      ]
     },
     "execution_count": 127,
     "metadata": {},
     "output_type": "execute_result"
    }
   ],
   "source": [
    "df['label'].value_counts()"
   ]
  },
  {
   "cell_type": "markdown",
   "metadata": {},
   "source": [
    "# Need to change labels for MLSVM (-1,1)\n",
    "### Make sure the number of minority class (lbl==1) is smaller than number of majority class (lbl==-1)"
   ]
  },
  {
   "cell_type": "code",
   "execution_count": 128,
   "metadata": {},
   "outputs": [
    {
     "data": {
      "text/plain": [
       "0    42045\n",
       "1     1887\n",
       "Name: label, dtype: int64"
      ]
     },
     "execution_count": 128,
     "metadata": {},
     "output_type": "execute_result"
    }
   ],
   "source": [
    "# no wildfire vs wildfire\n",
    "df.label.value_counts()"
   ]
  },
  {
   "cell_type": "code",
   "execution_count": 129,
   "metadata": {},
   "outputs": [],
   "source": [
    "df2 = df.copy()\n",
    "df2 = df2.astype({'label': 'int16'})"
   ]
  },
  {
   "cell_type": "code",
   "execution_count": 130,
   "metadata": {},
   "outputs": [],
   "source": [
    "df2['label'] = df2['label'].replace(0,-1)"
   ]
  },
  {
   "cell_type": "code",
   "execution_count": 131,
   "metadata": {},
   "outputs": [
    {
     "data": {
      "text/plain": [
       "-1    42045\n",
       " 1     1887\n",
       "Name: label, dtype: int64"
      ]
     },
     "execution_count": 131,
     "metadata": {},
     "output_type": "execute_result"
    }
   ],
   "source": [
    "df2.label.value_counts()"
   ]
  },
  {
   "cell_type": "code",
   "execution_count": 132,
   "metadata": {},
   "outputs": [
    {
     "data": {
      "text/html": [
       "<div>\n",
       "<style scoped>\n",
       "    .dataframe tbody tr th:only-of-type {\n",
       "        vertical-align: middle;\n",
       "    }\n",
       "\n",
       "    .dataframe tbody tr th {\n",
       "        vertical-align: top;\n",
       "    }\n",
       "\n",
       "    .dataframe thead th {\n",
       "        text-align: right;\n",
       "    }\n",
       "</style>\n",
       "<table border=\"1\" class=\"dataframe\">\n",
       "  <thead>\n",
       "    <tr style=\"text-align: right;\">\n",
       "      <th></th>\n",
       "      <th>label</th>\n",
       "      <th>b0</th>\n",
       "      <th>b1</th>\n",
       "      <th>b2</th>\n",
       "      <th>b3</th>\n",
       "      <th>b4</th>\n",
       "      <th>b5</th>\n",
       "      <th>b6</th>\n",
       "      <th>b7</th>\n",
       "      <th>b8</th>\n",
       "      <th>...</th>\n",
       "      <th>b250</th>\n",
       "      <th>b251</th>\n",
       "      <th>b252</th>\n",
       "      <th>b253</th>\n",
       "      <th>b254</th>\n",
       "      <th>b255</th>\n",
       "      <th>b256</th>\n",
       "      <th>b257</th>\n",
       "      <th>b258</th>\n",
       "      <th>b259</th>\n",
       "    </tr>\n",
       "  </thead>\n",
       "  <tbody>\n",
       "    <tr>\n",
       "      <th>0</th>\n",
       "      <td>-1</td>\n",
       "      <td>0.2824</td>\n",
       "      <td>0.3190</td>\n",
       "      <td>0.3285</td>\n",
       "      <td>0.3038</td>\n",
       "      <td>0.1717</td>\n",
       "      <td>0.0465</td>\n",
       "      <td>0.0239</td>\n",
       "      <td>0.060858</td>\n",
       "      <td>0.166470</td>\n",
       "      <td>...</td>\n",
       "      <td>0.1660</td>\n",
       "      <td>0.1711</td>\n",
       "      <td>0.2193</td>\n",
       "      <td>0.1884</td>\n",
       "      <td>0.1506</td>\n",
       "      <td>0.1176</td>\n",
       "      <td>0.0885</td>\n",
       "      <td>0.015129</td>\n",
       "      <td>0.024409</td>\n",
       "      <td>0.009139</td>\n",
       "    </tr>\n",
       "    <tr>\n",
       "      <th>1</th>\n",
       "      <td>-1</td>\n",
       "      <td>0.2824</td>\n",
       "      <td>0.3190</td>\n",
       "      <td>0.3285</td>\n",
       "      <td>0.3038</td>\n",
       "      <td>0.1717</td>\n",
       "      <td>0.0465</td>\n",
       "      <td>0.0239</td>\n",
       "      <td>0.060858</td>\n",
       "      <td>0.166470</td>\n",
       "      <td>...</td>\n",
       "      <td>0.1660</td>\n",
       "      <td>0.1711</td>\n",
       "      <td>0.2193</td>\n",
       "      <td>0.1884</td>\n",
       "      <td>0.1506</td>\n",
       "      <td>0.1176</td>\n",
       "      <td>0.0885</td>\n",
       "      <td>0.015129</td>\n",
       "      <td>0.024409</td>\n",
       "      <td>0.009139</td>\n",
       "    </tr>\n",
       "    <tr>\n",
       "      <th>2</th>\n",
       "      <td>-1</td>\n",
       "      <td>0.2305</td>\n",
       "      <td>0.2876</td>\n",
       "      <td>0.2701</td>\n",
       "      <td>0.2504</td>\n",
       "      <td>0.1617</td>\n",
       "      <td>0.0512</td>\n",
       "      <td>0.0246</td>\n",
       "      <td>0.110210</td>\n",
       "      <td>0.221369</td>\n",
       "      <td>...</td>\n",
       "      <td>0.4392</td>\n",
       "      <td>0.4420</td>\n",
       "      <td>0.4699</td>\n",
       "      <td>0.4593</td>\n",
       "      <td>0.3824</td>\n",
       "      <td>0.3705</td>\n",
       "      <td>0.2681</td>\n",
       "      <td>0.003177</td>\n",
       "      <td>0.012659</td>\n",
       "      <td>0.003041</td>\n",
       "    </tr>\n",
       "    <tr>\n",
       "      <th>3</th>\n",
       "      <td>-1</td>\n",
       "      <td>0.2305</td>\n",
       "      <td>0.2876</td>\n",
       "      <td>0.2701</td>\n",
       "      <td>0.2504</td>\n",
       "      <td>0.1617</td>\n",
       "      <td>0.0512</td>\n",
       "      <td>0.0246</td>\n",
       "      <td>0.110210</td>\n",
       "      <td>0.221369</td>\n",
       "      <td>...</td>\n",
       "      <td>0.4392</td>\n",
       "      <td>0.4420</td>\n",
       "      <td>0.4699</td>\n",
       "      <td>0.4593</td>\n",
       "      <td>0.3824</td>\n",
       "      <td>0.3705</td>\n",
       "      <td>0.2681</td>\n",
       "      <td>0.003177</td>\n",
       "      <td>0.012659</td>\n",
       "      <td>0.003041</td>\n",
       "    </tr>\n",
       "    <tr>\n",
       "      <th>4</th>\n",
       "      <td>-1</td>\n",
       "      <td>0.2118</td>\n",
       "      <td>0.2782</td>\n",
       "      <td>0.2427</td>\n",
       "      <td>0.2291</td>\n",
       "      <td>0.1559</td>\n",
       "      <td>0.0493</td>\n",
       "      <td>0.0224</td>\n",
       "      <td>0.135510</td>\n",
       "      <td>0.227787</td>\n",
       "      <td>...</td>\n",
       "      <td>0.1553</td>\n",
       "      <td>0.1949</td>\n",
       "      <td>0.1906</td>\n",
       "      <td>0.1768</td>\n",
       "      <td>0.1700</td>\n",
       "      <td>0.1300</td>\n",
       "      <td>0.0936</td>\n",
       "      <td>0.113078</td>\n",
       "      <td>0.141997</td>\n",
       "      <td>0.069866</td>\n",
       "    </tr>\n",
       "    <tr>\n",
       "      <th>...</th>\n",
       "      <td>...</td>\n",
       "      <td>...</td>\n",
       "      <td>...</td>\n",
       "      <td>...</td>\n",
       "      <td>...</td>\n",
       "      <td>...</td>\n",
       "      <td>...</td>\n",
       "      <td>...</td>\n",
       "      <td>...</td>\n",
       "      <td>...</td>\n",
       "      <td>...</td>\n",
       "      <td>...</td>\n",
       "      <td>...</td>\n",
       "      <td>...</td>\n",
       "      <td>...</td>\n",
       "      <td>...</td>\n",
       "      <td>...</td>\n",
       "      <td>...</td>\n",
       "      <td>...</td>\n",
       "      <td>...</td>\n",
       "      <td>...</td>\n",
       "    </tr>\n",
       "    <tr>\n",
       "      <th>44795</th>\n",
       "      <td>-1</td>\n",
       "      <td>0.0698</td>\n",
       "      <td>0.1620</td>\n",
       "      <td>0.0403</td>\n",
       "      <td>0.0641</td>\n",
       "      <td>0.1103</td>\n",
       "      <td>0.0615</td>\n",
       "      <td>0.0295</td>\n",
       "      <td>0.397757</td>\n",
       "      <td>0.180282</td>\n",
       "      <td>...</td>\n",
       "      <td>0.0275</td>\n",
       "      <td>0.1042</td>\n",
       "      <td>0.0255</td>\n",
       "      <td>0.0352</td>\n",
       "      <td>0.1251</td>\n",
       "      <td>0.0857</td>\n",
       "      <td>0.0404</td>\n",
       "      <td>0.582384</td>\n",
       "      <td>0.177884</td>\n",
       "      <td>0.182128</td>\n",
       "    </tr>\n",
       "    <tr>\n",
       "      <th>44796</th>\n",
       "      <td>-1</td>\n",
       "      <td>0.0762</td>\n",
       "      <td>0.1620</td>\n",
       "      <td>0.0485</td>\n",
       "      <td>0.0706</td>\n",
       "      <td>0.1042</td>\n",
       "      <td>0.0522</td>\n",
       "      <td>0.0249</td>\n",
       "      <td>0.360202</td>\n",
       "      <td>0.170855</td>\n",
       "      <td>...</td>\n",
       "      <td>0.0252</td>\n",
       "      <td>0.0835</td>\n",
       "      <td>0.0252</td>\n",
       "      <td>0.0325</td>\n",
       "      <td>0.0924</td>\n",
       "      <td>0.0649</td>\n",
       "      <td>0.0257</td>\n",
       "      <td>0.536339</td>\n",
       "      <td>0.139380</td>\n",
       "      <td>0.143667</td>\n",
       "    </tr>\n",
       "    <tr>\n",
       "      <th>44797</th>\n",
       "      <td>-1</td>\n",
       "      <td>0.2881</td>\n",
       "      <td>0.3304</td>\n",
       "      <td>0.2767</td>\n",
       "      <td>0.2907</td>\n",
       "      <td>0.1449</td>\n",
       "      <td>0.0638</td>\n",
       "      <td>0.0363</td>\n",
       "      <td>0.068391</td>\n",
       "      <td>0.107497</td>\n",
       "      <td>...</td>\n",
       "      <td>0.0977</td>\n",
       "      <td>0.1808</td>\n",
       "      <td>0.1067</td>\n",
       "      <td>0.1058</td>\n",
       "      <td>0.1541</td>\n",
       "      <td>0.1018</td>\n",
       "      <td>0.0516</td>\n",
       "      <td>0.298384</td>\n",
       "      <td>0.214895</td>\n",
       "      <td>0.160116</td>\n",
       "    </tr>\n",
       "    <tr>\n",
       "      <th>44798</th>\n",
       "      <td>-1</td>\n",
       "      <td>0.2285</td>\n",
       "      <td>0.2840</td>\n",
       "      <td>0.2127</td>\n",
       "      <td>0.2285</td>\n",
       "      <td>0.1294</td>\n",
       "      <td>0.0573</td>\n",
       "      <td>0.0294</td>\n",
       "      <td>0.108293</td>\n",
       "      <td>0.130927</td>\n",
       "      <td>...</td>\n",
       "      <td>0.0457</td>\n",
       "      <td>0.1409</td>\n",
       "      <td>0.0322</td>\n",
       "      <td>0.0451</td>\n",
       "      <td>0.1858</td>\n",
       "      <td>0.1306</td>\n",
       "      <td>0.0831</td>\n",
       "      <td>0.510182</td>\n",
       "      <td>0.202795</td>\n",
       "      <td>0.207981</td>\n",
       "    </tr>\n",
       "    <tr>\n",
       "      <th>44799</th>\n",
       "      <td>-1</td>\n",
       "      <td>0.2285</td>\n",
       "      <td>0.2840</td>\n",
       "      <td>0.2127</td>\n",
       "      <td>0.2285</td>\n",
       "      <td>0.1294</td>\n",
       "      <td>0.0573</td>\n",
       "      <td>0.0294</td>\n",
       "      <td>0.108293</td>\n",
       "      <td>0.130927</td>\n",
       "      <td>...</td>\n",
       "      <td>0.0457</td>\n",
       "      <td>0.1409</td>\n",
       "      <td>0.0322</td>\n",
       "      <td>0.0451</td>\n",
       "      <td>0.1858</td>\n",
       "      <td>0.1306</td>\n",
       "      <td>0.0831</td>\n",
       "      <td>0.510182</td>\n",
       "      <td>0.202795</td>\n",
       "      <td>0.207981</td>\n",
       "    </tr>\n",
       "  </tbody>\n",
       "</table>\n",
       "<p>43932 rows × 261 columns</p>\n",
       "</div>"
      ],
      "text/plain": [
       "       label      b0      b1      b2      b3      b4      b5      b6  \\\n",
       "0         -1  0.2824  0.3190  0.3285  0.3038  0.1717  0.0465  0.0239   \n",
       "1         -1  0.2824  0.3190  0.3285  0.3038  0.1717  0.0465  0.0239   \n",
       "2         -1  0.2305  0.2876  0.2701  0.2504  0.1617  0.0512  0.0246   \n",
       "3         -1  0.2305  0.2876  0.2701  0.2504  0.1617  0.0512  0.0246   \n",
       "4         -1  0.2118  0.2782  0.2427  0.2291  0.1559  0.0493  0.0224   \n",
       "...      ...     ...     ...     ...     ...     ...     ...     ...   \n",
       "44795     -1  0.0698  0.1620  0.0403  0.0641  0.1103  0.0615  0.0295   \n",
       "44796     -1  0.0762  0.1620  0.0485  0.0706  0.1042  0.0522  0.0249   \n",
       "44797     -1  0.2881  0.3304  0.2767  0.2907  0.1449  0.0638  0.0363   \n",
       "44798     -1  0.2285  0.2840  0.2127  0.2285  0.1294  0.0573  0.0294   \n",
       "44799     -1  0.2285  0.2840  0.2127  0.2285  0.1294  0.0573  0.0294   \n",
       "\n",
       "             b7        b8  ...    b250    b251    b252    b253    b254  \\\n",
       "0      0.060858  0.166470  ...  0.1660  0.1711  0.2193  0.1884  0.1506   \n",
       "1      0.060858  0.166470  ...  0.1660  0.1711  0.2193  0.1884  0.1506   \n",
       "2      0.110210  0.221369  ...  0.4392  0.4420  0.4699  0.4593  0.3824   \n",
       "3      0.110210  0.221369  ...  0.4392  0.4420  0.4699  0.4593  0.3824   \n",
       "4      0.135510  0.227787  ...  0.1553  0.1949  0.1906  0.1768  0.1700   \n",
       "...         ...       ...  ...     ...     ...     ...     ...     ...   \n",
       "44795  0.397757  0.180282  ...  0.0275  0.1042  0.0255  0.0352  0.1251   \n",
       "44796  0.360202  0.170855  ...  0.0252  0.0835  0.0252  0.0325  0.0924   \n",
       "44797  0.068391  0.107497  ...  0.0977  0.1808  0.1067  0.1058  0.1541   \n",
       "44798  0.108293  0.130927  ...  0.0457  0.1409  0.0322  0.0451  0.1858   \n",
       "44799  0.108293  0.130927  ...  0.0457  0.1409  0.0322  0.0451  0.1858   \n",
       "\n",
       "         b255    b256      b257      b258      b259  \n",
       "0      0.1176  0.0885  0.015129  0.024409  0.009139  \n",
       "1      0.1176  0.0885  0.015129  0.024409  0.009139  \n",
       "2      0.3705  0.2681  0.003177  0.012659  0.003041  \n",
       "3      0.3705  0.2681  0.003177  0.012659  0.003041  \n",
       "4      0.1300  0.0936  0.113078  0.141997  0.069866  \n",
       "...       ...     ...       ...       ...       ...  \n",
       "44795  0.0857  0.0404  0.582384  0.177884  0.182128  \n",
       "44796  0.0649  0.0257  0.536339  0.139380  0.143667  \n",
       "44797  0.1018  0.0516  0.298384  0.214895  0.160116  \n",
       "44798  0.1306  0.0831  0.510182  0.202795  0.207981  \n",
       "44799  0.1306  0.0831  0.510182  0.202795  0.207981  \n",
       "\n",
       "[43932 rows x 261 columns]"
      ]
     },
     "execution_count": 132,
     "metadata": {},
     "output_type": "execute_result"
    }
   ],
   "source": [
    "df2"
   ]
  },
  {
   "cell_type": "code",
   "execution_count": 133,
   "metadata": {},
   "outputs": [
    {
     "data": {
      "text/plain": [
       "(43932, 261)"
      ]
     },
     "execution_count": 133,
     "metadata": {},
     "output_type": "execute_result"
    }
   ],
   "source": [
    "df2.shape"
   ]
  },
  {
   "cell_type": "code",
   "execution_count": 47,
   "metadata": {},
   "outputs": [],
   "source": [
    "# very imbalanced data\n",
    "#from imblearn.datasets import make_imbalance\n",
    "\n",
    "#x_imb, y_imb = make_imbalance(x, y, sampling_strategy={-1: 1000000, 1: 500}, random_state=0)"
   ]
  },
  {
   "cell_type": "code",
   "execution_count": 134,
   "metadata": {},
   "outputs": [
    {
     "name": "stdout",
     "output_type": "stream",
     "text": [
      "Training Counts\n",
      "[[   -1 42045]\n",
      " [    1  1887]]\n"
     ]
    }
   ],
   "source": [
    "y = df2['label'].values\n",
    "unique, counts = np.unique(y, return_counts=True)\n",
    "print ('Training Counts')\n",
    "print (np.asarray((unique, counts)).T)"
   ]
  },
  {
   "cell_type": "code",
   "execution_count": 135,
   "metadata": {},
   "outputs": [],
   "source": [
    "loc = '/home/lql/Desktop/rs_mlsvm/repo/mlsvm/src/datasets/'\n",
    "data3 = 'val_data.csv'\n",
    "df2.to_csv(loc + data3,header=None, sep=',', index=None)\n"
   ]
  },
  {
   "cell_type": "code",
   "execution_count": null,
   "metadata": {},
   "outputs": [],
   "source": []
  }
 ],
 "metadata": {
  "kernelspec": {
   "display_name": "Python 3",
   "language": "python",
   "name": "python3"
  },
  "language_info": {
   "codemirror_mode": {
    "name": "ipython",
    "version": 3
   },
   "file_extension": ".py",
   "mimetype": "text/x-python",
   "name": "python",
   "nbconvert_exporter": "python",
   "pygments_lexer": "ipython3",
   "version": "3.8.5"
  }
 },
 "nbformat": 4,
 "nbformat_minor": 2
}
